{
 "cells": [
  {
   "cell_type": "markdown",
   "metadata": {},
   "source": [
    "Scenerio: Data Scientist at a real estate company.\n",
    "\n",
    "    1. Look at the big picture.\n",
    "    2. Get the data.\n",
    "    3. Discover and visualize the data to gain insights.\n",
    "    4. Prepare the data for ML algorithms.\n",
    "    5. Select a model and train it.\n",
    "    6. Fine-tune your model.\n",
    "    7. Present your solution.\n",
    "    8. Launch, monitor, and maintain your system."
   ]
  },
  {
   "cell_type": "markdown",
   "metadata": {},
   "source": [
    "Root Mean Square Error:\n",
    "\n",
    "$$RMSE(X, h) = \\sqrt{\\dfrac{1}{m} \\sum_{i=1}^{m} \\left( h\\left( x^{(i)} \\right) - y^{(i)} \\right)^2} $$"
   ]
  },
  {
   "cell_type": "code",
   "execution_count": null,
   "metadata": {
    "collapsed": true
   },
   "outputs": [],
   "source": []
  }
 ],
 "metadata": {
  "kernelspec": {
   "display_name": "Python 2",
   "language": "python",
   "name": "python2"
  },
  "language_info": {
   "codemirror_mode": {
    "name": "ipython",
    "version": 2
   },
   "file_extension": ".py",
   "mimetype": "text/x-python",
   "name": "python",
   "nbconvert_exporter": "python",
   "pygments_lexer": "ipython2",
   "version": "2.7.14"
  }
 },
 "nbformat": 4,
 "nbformat_minor": 2
}
